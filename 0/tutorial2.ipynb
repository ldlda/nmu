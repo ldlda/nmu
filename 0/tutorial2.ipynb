{
 "cells": [
  {
   "cell_type": "markdown",
   "metadata": {},
   "source": [
    "# Python tutorial\n",
    "\n",
    "this is a python tutorial in jupyter notebook! this will serve as a continuation of that last one."
   ]
  },
  {
   "cell_type": "markdown",
   "metadata": {},
   "source": [
    "## but last one is ugh\n",
    "\n",
    "ok mr complainer here we go:\n",
    "\n",
    "### basic"
   ]
  },
  {
   "cell_type": "code",
   "execution_count": 1,
   "metadata": {},
   "outputs": [],
   "source": [
    "x = 3 # variable = value\n",
    "x = 31.28 # float value\n",
    "\n",
    "x = 3 + 5\n",
    "assert x == 8"
   ]
  },
  {
   "cell_type": "markdown",
   "metadata": {},
   "source": [
    "above is an interactive piece of code. you will press run and it will remember.\n",
    "\n",
    "If you didnt press run this one will show error:"
   ]
  },
  {
   "cell_type": "code",
   "execution_count": null,
   "metadata": {},
   "outputs": [],
   "source": [
    "try:\n",
    "    x\n",
    "except NameError:\n",
    "    print(\"play the last code block broski\")\n",
    "else:\n",
    "    print(\"thats right\")"
   ]
  },
  {
   "cell_type": "code",
   "execution_count": null,
   "metadata": {},
   "outputs": [],
   "source": [
    "try:\n",
    "    x\n",
    "except NameError:\n",
    "    print(\"play the last code block broski\")\n",
    "else:\n",
    "    print(\"thats right\")"
   ]
  },
  {
   "cell_type": "markdown",
   "metadata": {},
   "source": [
    "### containers\n",
    "\n",
    "these are some of the containers.\n",
    "\n",
    "list, dict, set is mutable,  \n",
    "dict keys and set items are unique,  \n",
    "index list and tuple by index and dict by keys."
   ]
  },
  {
   "cell_type": "code",
   "execution_count": 4,
   "metadata": {},
   "outputs": [],
   "source": [
    "my_list = [\"this\", \"is\", \"a\", \"list\"]\n",
    "my_dict = {\n",
    "    \"my key\": \"my value\",\n",
    "    \"my life\": \"my rules\",\n",
    "    \"my style\": \"my attitute\"\n",
    "}\n",
    "\n",
    "assert my_list[1] == \"is\" # not \"this\"\n",
    "assert my_list[-1] == \"list\""
   ]
  },
  {
   "cell_type": "code",
   "execution_count": 5,
   "metadata": {},
   "outputs": [],
   "source": [
    "my_longer = list(range(20)) # 0 -> 19\n",
    "\n",
    "assert my_longer[2:5] == [2, 3, 4] # slice\n",
    "assert my_longer[:4] == [0, 1, 2, 3] # blank start for 0\n",
    "assert my_longer[3::5] == [3, 8, 13, 18] # blank stop for past end\n",
    "assert my_longer[18:6:-4] == [18, 14, 10] # empty/no step for 1\n",
    "assert my_longer[:-3:8] == [0, 8, 16]"
   ]
  },
  {
   "cell_type": "markdown",
   "metadata": {},
   "source": [
    "### function\n",
    "\n",
    "function is declared with `def`:"
   ]
  },
  {
   "cell_type": "code",
   "execution_count": 6,
   "metadata": {},
   "outputs": [],
   "source": [
    "def my_function(a: int, b: int) -> int:\n",
    "    return a + b"
   ]
  },
  {
   "cell_type": "markdown",
   "metadata": {},
   "source": [
    "you can violate type hints:"
   ]
  },
  {
   "cell_type": "code",
   "execution_count": null,
   "metadata": {},
   "outputs": [],
   "source": [
    "my_function(\"hello \", \"world!\") # dont do this\n",
    "my_function(2, 6)"
   ]
  },
  {
   "cell_type": "markdown",
   "metadata": {},
   "source": [
    "### control flow, conditional"
   ]
  },
  {
   "cell_type": "code",
   "execution_count": null,
   "metadata": {},
   "outputs": [],
   "source": [
    "if 3 + 5 == 6:\n",
    "    print(\"3 + 5 = 6\")\n",
    "elif 3 + 5 == 7:\n",
    "    print(\"3 + 5 = 7\")\n",
    "elif 3 + 5 == 8:\n",
    "    print(\"3 + 5 == 8\")\n",
    "else:\n",
    "    print(\"D: None of the above\")"
   ]
  },
  {
   "cell_type": "code",
   "execution_count": null,
   "metadata": {},
   "outputs": [],
   "source": [
    "container = [1, 11, 5, 17]\n",
    "sum_ = 0\n",
    "for element in container:\n",
    "    sum_ += element\n",
    "sum_"
   ]
  },
  {
   "cell_type": "code",
   "execution_count": 1,
   "metadata": {},
   "outputs": [],
   "source": [
    "x = 0\n",
    "while True:\n",
    "    x += 1\n",
    "    \n",
    "    if x > 20:\n",
    "        break"
   ]
  }
 ],
 "metadata": {
  "kernelspec": {
   "display_name": "Python 3",
   "language": "python",
   "name": "python3"
  },
  "language_info": {
   "codemirror_mode": {
    "name": "ipython",
    "version": 3
   },
   "file_extension": ".py",
   "mimetype": "text/x-python",
   "name": "python",
   "nbconvert_exporter": "python",
   "pygments_lexer": "ipython3",
   "version": "3.12.5"
  }
 },
 "nbformat": 4,
 "nbformat_minor": 2
}
