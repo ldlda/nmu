{
 "cells": [
  {
   "cell_type": "markdown",
   "metadata": {},
   "source": [
    "# Python tutorial\n",
    "\n",
    "this is a python tutorial in jupyter notebook! this will serve as a continuation of that last one."
   ]
  },
  {
   "cell_type": "markdown",
   "metadata": {},
   "source": [
    "## but last one is ugh\n",
    "\n",
    "ok mr complainer here we go:\n",
    "\n",
    "### basic"
   ]
  },
  {
   "cell_type": "code",
   "execution_count": 1,
   "metadata": {},
   "outputs": [],
   "source": [
    "x = 3  # variable = value\n",
    "x = 31.28  # float value\n",
    "\n",
    "x = 3 + 5\n",
    "assert x == 8"
   ]
  },
  {
   "cell_type": "markdown",
   "metadata": {},
   "source": [
    "above is an interactive piece of code. you will press run and it will remember.\n",
    "\n",
    "If you didnt press run this one will show error:"
   ]
  },
  {
   "cell_type": "code",
   "execution_count": 2,
   "metadata": {},
   "outputs": [
    {
     "name": "stdout",
     "output_type": "stream",
     "text": [
      "thats right\n"
     ]
    }
   ],
   "source": [
    "try:\n",
    "    x\n",
    "except NameError:  # last code block define x\n",
    "    print(\"play the last code block broski\")\n",
    "else:  # last code block ran\n",
    "    print(\"thats right\")"
   ]
  },
  {
   "cell_type": "markdown",
   "metadata": {},
   "source": [
    "### containers\n",
    "\n",
    "these are some of the containers.\n",
    "\n",
    "list, dict, set is mutable,  \n",
    "dict keys and set items are unique,  \n",
    "index list and tuple by index and dict by keys."
   ]
  },
  {
   "cell_type": "code",
   "execution_count": 4,
   "metadata": {},
   "outputs": [],
   "source": [
    "my_list = [\"this\", \"is\", \"a\", \"list\"]\n",
    "my_dict = {\"my key\": \"my value\", \"my life\": \"my rules\", \"my style\": \"my attitute\"}\n",
    "\n",
    "assert my_list[1] == \"is\"  # not \"this\"\n",
    "assert my_list[-1] == \"list\""
   ]
  },
  {
   "cell_type": "code",
   "execution_count": 5,
   "metadata": {},
   "outputs": [],
   "source": [
    "my_longer = list(range(20))  # 0 -> 19\n",
    "\n",
    "assert my_longer[2:5] == [2, 3, 4]  # slice\n",
    "assert my_longer[:4] == [0, 1, 2, 3]  # blank start for 0\n",
    "assert my_longer[3::5] == [3, 8, 13, 18]  # blank stop for past end\n",
    "assert my_longer[18:6:-4] == [18, 14, 10]  # empty/no step for 1\n",
    "assert my_longer[:-3:8] == [0, 8, 16]"
   ]
  },
  {
   "cell_type": "markdown",
   "metadata": {},
   "source": [
    "### function\n",
    "\n",
    "function is declared with `def`:"
   ]
  },
  {
   "cell_type": "code",
   "execution_count": 3,
   "metadata": {},
   "outputs": [],
   "source": [
    "def my_function(a: int, b: int) -> int:\n",
    "    return a + b"
   ]
  },
  {
   "cell_type": "markdown",
   "metadata": {},
   "source": [
    "you can violate type hints:"
   ]
  },
  {
   "cell_type": "code",
   "execution_count": 4,
   "metadata": {},
   "outputs": [
    {
     "data": {
      "text/plain": [
       "8"
      ]
     },
     "execution_count": 4,
     "metadata": {},
     "output_type": "execute_result"
    }
   ],
   "source": [
    "my_function(\"hello \", \"world!\")  # dont do this\n",
    "my_function(2, 6)"
   ]
  },
  {
   "cell_type": "markdown",
   "metadata": {},
   "source": [
    "### control flow, conditional"
   ]
  },
  {
   "cell_type": "code",
   "execution_count": null,
   "metadata": {},
   "outputs": [],
   "source": [
    "if 3 + 5 == 6:\n",
    "    print(\"3 + 5 = 6\")\n",
    "elif 3 + 5 == 7:\n",
    "    print(\"3 + 5 = 7\")\n",
    "elif 3 + 5 == 8:\n",
    "    print(\"3 + 5 == 8\")\n",
    "else:\n",
    "    print(\"D: None of the above\")"
   ]
  },
  {
   "cell_type": "code",
   "execution_count": 5,
   "metadata": {},
   "outputs": [
    {
     "data": {
      "text/plain": [
       "34"
      ]
     },
     "execution_count": 5,
     "metadata": {},
     "output_type": "execute_result"
    }
   ],
   "source": [
    "container = [1, 11, 5, 17]\n",
    "sum_ = 0\n",
    "for element in container:\n",
    "    sum_ += element\n",
    "sum_"
   ]
  },
  {
   "cell_type": "code",
   "execution_count": 1,
   "metadata": {},
   "outputs": [],
   "source": [
    "x = 0\n",
    "while True:\n",
    "    x += 1\n",
    "\n",
    "    if x > 20:\n",
    "        break"
   ]
  },
  {
   "cell_type": "code",
   "execution_count": null,
   "metadata": {},
   "outputs": [],
   "source": [
    "match 2 + 3:\n",
    "    case x if x <= 4:\n",
    "        print(\"no way\")\n",
    "    case 5:\n",
    "        print(\"2 + 3 = 5\")\n",
    "    case x if x > 6:  # match doesnt need to cover all cases\n",
    "        print(\"woah\")"
   ]
  },
  {
   "cell_type": "markdown",
   "metadata": {},
   "source": [
    "`break` and `continue` work with the innermost for/while loop. also works with match i think i never tested\n",
    "\n",
    "### Exceptions\n",
    "\n",
    "exceptions are python errors. you can let it crash, catch with try except, or raise one yourself.\n",
    "\n",
    "Some common ones are `ValueError` `TypeError` and `OSError` type shit"
   ]
  },
  {
   "cell_type": "code",
   "execution_count": null,
   "metadata": {},
   "outputs": [],
   "source": [
    "try:\n",
    "    raise ValueError(\"value eroe\")\n",
    "except ValueError as error:\n",
    "    print(\"raised\", error)"
   ]
  },
  {
   "cell_type": "markdown",
   "metadata": {},
   "source": [
    "### class\n",
    "\n",
    "class. methods. backbone of python."
   ]
  },
  {
   "cell_type": "code",
   "execution_count": 6,
   "metadata": {},
   "outputs": [
    {
     "data": {
      "text/plain": [
       "('spam', 42)"
      ]
     },
     "execution_count": 6,
     "metadata": {},
     "output_type": "execute_result"
    }
   ],
   "source": [
    "class Foo:\n",
    "    bar = \"baz\"\n",
    "\n",
    "    def quux(tis, arg1):\n",
    "        return arg1, 42\n",
    "\n",
    "\n",
    "# usage:\n",
    "\n",
    "fbar = Foo()\n",
    "\n",
    "fbar.quux(\"spam\")"
   ]
  },
  {
   "cell_type": "markdown",
   "metadata": {},
   "source": [
    "looking ass.\n",
    "\n",
    "class has class properties and instance properties. instance probably goes self.something, while class Foo.something.\n",
    "\n",
    "it can be a number, a string, a list (not advised), or a function?\n",
    "\n",
    "for a function in a class it would be marked a classmethod (`@classmethod`) and with classmethods the instance get passed in first arg.\n",
    "`@staticmethod` used in the class block revert this behavior.\n",
    "\n",
    "check the tutorial.py file im lazy"
   ]
  },
  {
   "cell_type": "code",
   "execution_count": 7,
   "metadata": {},
   "outputs": [
    {
     "data": {
      "text/plain": [
       "(1, [10, 7, 4])"
      ]
     },
     "execution_count": 7,
     "metadata": {},
     "output_type": "execute_result"
    }
   ],
   "source": [
    "# everything is a class so your list is also a class\n",
    "# so it has classmethods:\n",
    "\n",
    "list_lda = [1, 4, 7]\n",
    "list_lda.append(10)\n",
    "list_lda.reverse()\n",
    "list_lda.pop(), list_lda"
   ]
  },
  {
   "cell_type": "markdown",
   "metadata": {},
   "source": [
    "do research broski\n",
    "\n",
    "## more python stuff\n",
    "\n",
    "### map and filter\n",
    "\n",
    "alot of time you would want to do stuff with the List and you would want to have a look at the builtin `map()` or `filter()` or those kind of functions:\n",
    "\n",
    "what they do is:\n",
    "\n",
    "```python\n",
    "collection = [something, something_else,]\n",
    "def function(x) -> y: ...\n",
    "\n",
    "new_collection = map(function, collection) \n",
    "# => each x you run function on it and it returns y.\n",
    "# put that y in the place x would be in the new_collection\n",
    "\n",
    "condition = lambda x: x == True\n",
    "# lambda is a kind of mini throwaway function. you know closures? yes that\n",
    "# but it can only do one thing. one singular expression fits in there. life is bad.\n",
    "# tips. use def if this function deserves a name. for example ReLU is just\n",
    "# ReLU = lambda x: x if x > 0 else 0\n",
    "# but you would use want to do def ReLU(x: float) -> float as much as possible\n",
    "\n",
    "filtered_collection = filter(condition, collection)\n",
    "# check for condition for each element of condition and append it into filtered_collection\n",
    "```\n",
    "\n",
    "remember map and filter doesnt return a list back but a special generator object so you would have to call list() on it to use as list.\n",
    "\n",
    "why? for performance. generator is lazy."
   ]
  },
  {
   "cell_type": "markdown",
   "metadata": {},
   "source": [
    "we also have this thing:\n",
    "\n",
    "### Python list comprehension\n",
    "\n",
    "comprehension. fuck do i know what it means. you dont know half these words and so do i.\n",
    "\n",
    "a simple way to do fiter_map ig"
   ]
  },
  {
   "cell_type": "code",
   "execution_count": null,
   "metadata": {},
   "outputs": [],
   "source": [
    "# you would do this:\n",
    "oldlist = list(range(1, 40, 3))\n",
    "newlist = []\n",
    "for i in oldlist:  # notice this\n",
    "    if i % 5 == 0:  # notice this\n",
    "        newlist.append(i)\n",
    "\n",
    "list_shorthand = [i for i in oldlist if i % 5 == 0]\n",
    "\n",
    "assert list_shorthand == newlist  # same thing!"
   ]
  },
  {
   "cell_type": "markdown",
   "metadata": {},
   "source": [
    "its: \n",
    "```python\n",
    "something(vals) for vals in collection if condition(vals) if condition2(vals) if etc.\n",
    "```\n",
    "and `something(vals)` could well be another comprehension.\n",
    "\n",
    "notice for in if. strictly for in if, and not if for in. that if is of something else.\n",
    "\n",
    "oh but `something if condition else something_else` i also see how is that\n",
    "\n",
    "well that is another shorthand unrelated, but if you can use sure go ahead\n",
    "\n",
    "its kinda like the Ternary conditional operator `cond ? true_expr : false_expr` in c or typescript and yes you can go crazy with it just like with typescript"
   ]
  },
  {
   "cell_type": "markdown",
   "metadata": {},
   "source": [
    "## what the fuck is this half code half document\n",
    "\n",
    "jupyter. very flexible very dynamic. you can have jupyter running on browser or on vscode i think\n",
    "\n",
    "jupyter has a lot of thingimajig suitable for data engineers.\n"
   ]
  },
  {
   "cell_type": "code",
   "execution_count": 8,
   "metadata": {},
   "outputs": [
    {
     "name": "stdout",
     "output_type": "stream",
     "text": [
      "[[1 5 7]\n",
      " [2 6 8]\n",
      " [3 4 9]]\n"
     ]
    }
   ],
   "source": [
    "try:\n",
    "    import numpy as np\n",
    "except ImportError:\n",
    "    print(\"python -m pip install numpy\")\n",
    "else:\n",
    "    print(np.array([[1, 5, 7], [2, 6, 8], [3, 4, 9]]))"
   ]
  },
  {
   "cell_type": "markdown",
   "metadata": {},
   "source": [
    "for example the shit we are very much working with in the course: numpy. matplotlib. scipy maybe\n",
    "\n",
    "### numpy\n",
    "\n",
    "so you just learned python. SCRAP ALL THAT SHIT we learn a new language called Numpy.\n",
    "\n",
    "fuck you mean numpy a new language?\n",
    "\n",
    "see. numpy dont use python for the bulk of its operations. python is slow, they say, but c is fast. numpy is made in C.\n",
    "\n",
    "so numpy dont use python types. numpy uses its own types. its own functions. almost all of them not from python but from C for all the speed\n",
    "\n",
    "try ctrl space the just imported np object. snoop around. its complicated. theres so much. we dont use much of it tho."
   ]
  }
 ],
 "metadata": {
  "kernelspec": {
   "display_name": "Python 3",
   "language": "python",
   "name": "python3"
  },
  "language_info": {
   "codemirror_mode": {
    "name": "ipython",
    "version": 3
   },
   "file_extension": ".py",
   "mimetype": "text/x-python",
   "name": "python",
   "nbconvert_exporter": "python",
   "pygments_lexer": "ipython3",
   "version": "3.12.5"
  }
 },
 "nbformat": 4,
 "nbformat_minor": 2
}
